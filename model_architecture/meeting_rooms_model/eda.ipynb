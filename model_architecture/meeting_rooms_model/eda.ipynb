{
 "cells": [
  {
   "cell_type": "code",
   "execution_count": 1,
   "id": "initial_id",
   "metadata": {
    "collapsed": true,
    "ExecuteTime": {
     "end_time": "2024-03-16T12:25:28.207837Z",
     "start_time": "2024-03-16T12:25:27.880493Z"
    }
   },
   "outputs": [],
   "source": [
    "import pandas as pd"
   ]
  },
  {
   "cell_type": "code",
   "outputs": [],
   "source": [
    "df = pd.read_csv('preprocessed_month_categorical.csv')\n",
    "\n",
    "df['day_of_week'] = df['month'].astype('category')"
   ],
   "metadata": {
    "collapsed": false,
    "ExecuteTime": {
     "end_time": "2024-03-16T13:10:45.840142Z",
     "start_time": "2024-03-16T13:10:45.832405Z"
    }
   },
   "id": "da3bb77f5cc5fb51",
   "execution_count": 6
  },
  {
   "cell_type": "code",
   "outputs": [],
   "source": [],
   "metadata": {
    "collapsed": false
   },
   "id": "3f8bf0c16259eaaf"
  },
  {
   "cell_type": "markdown",
   "source": [],
   "metadata": {
    "collapsed": false
   },
   "id": "5e456efdc2c02f24"
  },
  {
   "cell_type": "code",
   "outputs": [],
   "source": [],
   "metadata": {
    "collapsed": false,
    "ExecuteTime": {
     "end_time": "2024-03-16T13:10:50.845920Z",
     "start_time": "2024-03-16T13:10:50.840419Z"
    }
   },
   "id": "2fa8655c5dd4efb2",
   "execution_count": 7
  },
  {
   "cell_type": "code",
   "outputs": [],
   "source": [
    "import pandas as pd\n",
    "\n",
    "# Load your dataset\n",
    "df = pd.read_csv('preprocessed_month_categorical.csv')\n",
    "\n",
    "# One-hot encode the 'month' column\n",
    "df_encoded = pd.get_dummies(df, columns=['month'], prefix='month')\n",
    "\n",
    "# The 'df_encoded' DataFrame now contains one-hot encoded values for the 'month' column,\n",
    "# along with original data from 'df' except the 'month' column.\n",
    "df.to_csv('updated_file_month_one_hot.csv', index=False)  # 'updated_file.csv' is the output file name\n"
   ],
   "metadata": {
    "collapsed": false,
    "ExecuteTime": {
     "end_time": "2024-03-16T13:20:01.617077Z",
     "start_time": "2024-03-16T13:20:01.598547Z"
    }
   },
   "id": "fa0c671cec3ce571",
   "execution_count": 8
  },
  {
   "cell_type": "code",
   "outputs": [],
   "source": [],
   "metadata": {
    "collapsed": false
   },
   "id": "780092c5adb26640"
  }
 ],
 "metadata": {
  "kernelspec": {
   "display_name": "Python 3",
   "language": "python",
   "name": "python3"
  },
  "language_info": {
   "codemirror_mode": {
    "name": "ipython",
    "version": 2
   },
   "file_extension": ".py",
   "mimetype": "text/x-python",
   "name": "python",
   "nbconvert_exporter": "python",
   "pygments_lexer": "ipython2",
   "version": "2.7.6"
  }
 },
 "nbformat": 4,
 "nbformat_minor": 5
}
